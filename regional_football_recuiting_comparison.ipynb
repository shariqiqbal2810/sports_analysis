{
 "cells": [
  {
   "cell_type": "markdown",
   "metadata": {},
   "source": [
    "# Are 5-star Recruits From the Southeast Better Than Those From other Regions?\n",
    "\n",
    "Much has been made of the SEC's dominance in college football in recent years, and, much of that success can be attributed to the sheer volume of high profile recruits the region produces."
   ]
  },
  {
   "cell_type": "code",
   "execution_count": 45,
   "metadata": {
    "collapsed": true
   },
   "outputs": [],
   "source": [
    "import requests\n",
    "from lxml import html\n",
    "import time\n",
    "import pandas as pd"
   ]
  },
  {
   "cell_type": "code",
   "execution_count": 2,
   "metadata": {
    "collapsed": true
   },
   "outputs": [],
   "source": [
    "top_recruit_lists = {i:'http://247sports.com/Season/%i-Football/CompositeRecruitRankings'%i for i in range(2000, 2012)}\n",
    "nfl_draft_lists = {i:'https://en.wikipedia.org/wiki/%i_NFL_draft'%i for i in range(2004, 2016)}"
   ]
  },
  {
   "cell_type": "code",
   "execution_count": 3,
   "metadata": {
    "collapsed": false
   },
   "outputs": [],
   "source": [
    "headers = {'User-agent': 'bingbot'}\n",
    "# get 247 composite rankings for every year from 2000-2011\n",
    "for year in top_recruit_lists:\n",
    "    top_recruit_lists[year] = requests.get(top_recruit_lists[year], headers=headers)\n",
    "    time.sleep(0.25) # dont want to spam the server (even though this is a pretty small crawl)\n",
    "\n",
    "# get NFL Draft results for every year from 2004-2015\n",
    "for year in nfl_draft_lists:\n",
    "    nfl_draft_lists[year] = requests.get(nfl_draft_lists[year], headers=headers)\n",
    "    time.sleep(0.25)"
   ]
  },
  {
   "cell_type": "code",
   "execution_count": 161,
   "metadata": {
    "collapsed": false
   },
   "outputs": [],
   "source": [
    "names = []\n",
    "rank = []\n",
    "hs_location = []\n",
    "recruit_year = []\n",
    "\n",
    "for year in top_recruit_lists:\n",
    "    tree = html.fromstring(top_recruit_lists[year].content)\n",
    "    names += tree.xpath('//a[@class=\"bold\"]/text()')\n",
    "    rank += tree.xpath('//span[@class=\"primary\"]/text()')\n",
    "    hs_location += tree.xpath('//span[@class=\"meta\"]/text()')\n",
    "    recruit_year += [year] * len(tree.xpath('//a[@class=\"bold\"]/text()'))"
   ]
  },
  {
   "cell_type": "code",
   "execution_count": 162,
   "metadata": {
    "collapsed": false
   },
   "outputs": [],
   "source": [
    "state = []\n",
    "region = []\n",
    "region_map = {'WA': \"West\",\n",
    "              'OR': \"West\",\n",
    "              'CA': \"West\",\n",
    "              'ID': \"West\",\n",
    "              'NV': \"West\",\n",
    "              'AZ': \"West\",\n",
    "              'UT': \"West\",\n",
    "              'MT': \"West\",\n",
    "              'WY': \"West\",\n",
    "              'CO': \"West\",\n",
    "              'NM': \"West\",\n",
    "              'ND': \"Midwest\",\n",
    "              'SD': \"Midwest\",\n",
    "              'NE': \"Midwest\",\n",
    "              'MN': \"Midwest\",\n",
    "              'IA': \"Midwest\",\n",
    "              'WI': \"Midwest\",\n",
    "              'IL': \"Midwest\",\n",
    "              'IN': \"Midwest\",\n",
    "              'MI': \"Midwest\",\n",
    "              'OH': \"Midwest\",\n",
    "              'PA': \"Midwest\",\n",
    "              'ME': \"East\",\n",
    "              'NH': \"East\",\n",
    "              'VT': \"East\",\n",
    "              'MA': \"East\",\n",
    "              'NY': \"East\",\n",
    "              'CT': \"East\",\n",
    "              'RI': \"East\",\n",
    "              'NJ': \"East\",\n",
    "              'DC': \"East\",\n",
    "              'DE': \"East\",\n",
    "              'MD': \"East\",\n",
    "              'WV': \"East\",\n",
    "              'VA': \"East\",\n",
    "              'NC': \"East\",\n",
    "              'MO': \"Southeast\",\n",
    "              'KY': \"Southeast\",\n",
    "              'TN': \"Southeast\",\n",
    "              'SC': \"Southeast\",\n",
    "              'GA': \"Southeast\",\n",
    "              'AL': \"Southeast\",\n",
    "              'MS': \"Southeast\",\n",
    "              'LA': \"Southeast\",\n",
    "              'FL': \"Southeast\",\n",
    "              'AR': \"Southeast\",\n",
    "              'KS': \"Southwest\",\n",
    "              'TX': \"Southwest\",\n",
    "              'OK': \"Southwest\",\n",
    "              'HI': \"Pacific\",\n",
    "              'AK': \"Pacific\",\n",
    "             }\n",
    "for hs in hs_location:\n",
    "    st = hs.split(', ')[-1].split(')')[0]\n",
    "    state.append(st)\n",
    "    region.append(region_map[st])"
   ]
  },
  {
   "cell_type": "code",
   "execution_count": 163,
   "metadata": {
    "collapsed": false
   },
   "outputs": [],
   "source": [
    "df = pd.DataFrame(index=names)\n",
    "df['rank'] = rank\n",
    "df['hs_location'] = hs_location\n",
    "df['recruit_year'] = recruit_year\n",
    "df['state'] = state\n",
    "df['region'] = region\n",
    "df = df.drop('Adam Taliaferro') # mistakenly ranked number 1 by website"
   ]
  },
  {
   "cell_type": "code",
   "execution_count": 164,
   "metadata": {
    "collapsed": false
   },
   "outputs": [],
   "source": [
    "for year in nfl_draft_lists:\n",
    "    tree = html.fromstring(nfl_draft_lists[year].content)\n",
    "    \n",
    "    pick_num = tree.xpath(\"//span[@id]/@id\")\n",
    "    to_remove = []\n",
    "    for i in range(len(pick_num)):\n",
    "        val = pick_num[i]\n",
    "        if 'Pick_' not in val:\n",
    "            to_remove.append(val)\n",
    "        else:\n",
    "            num = val.split('_')[-1]\n",
    "            try:\n",
    "                pick_num[i] = int(num)\n",
    "            except ValueError:\n",
    "                to_remove.append(val) # wikipedia annoyingly labels forfeited picks as decimals between two picks (e.g. 30.5)\n",
    "\n",
    "    for rmv in to_remove:\n",
    "        pick_num.remove(rmv)\n",
    "    \n",
    "    names = tree.xpath('//span[@class=\"sortkey\"]/text() | //td/span[@style=\"display:none;\"]/text()')\n",
    "    for i in range(len(names)):\n",
    "        name = names[i]\n",
    "        name = name.split(',')\n",
    "        name[1] = name[1].replace(' ', '')\n",
    "        names[i] = name[1] + ' ' + name[0]\n",
    "    names = names[:len(pick_num)]\n",
    "    \n",
    "    for i in range(len(names)):\n",
    "        name = names[i]\n",
    "        try:\n",
    "            if year <= df.loc[name, 'recruit_year'] + 6 and year >= df.loc[name, 'recruit_year'] + 3:\n",
    "                df.loc[name, 'draft_pick'] = i+1\n",
    "                df.loc[name, 'draft_year'] = year\n",
    "        except:\n",
    "            pass # pick wasn't in 247 top 50 composite"
   ]
  },
  {
   "cell_type": "code",
   "execution_count": 165,
   "metadata": {
    "collapsed": false
   },
   "outputs": [],
   "source": [
    "df['drafted'] = (~df.draft_pick.isnull()).astype('int')\n",
    "df['rank'] = df['rank'].astype('int')"
   ]
  },
  {
   "cell_type": "code",
   "execution_count": 177,
   "metadata": {
    "collapsed": false
   },
   "outputs": [
    {
     "data": {
      "text/plain": [
       "0.46255506607929514"
      ]
     },
     "execution_count": 177,
     "metadata": {},
     "output_type": "execute_result"
    }
   ],
   "source": [
    "df[df.region == 'Southeast'].drafted.sum() / float(len(df[df.region == 'Southeast']))"
   ]
  },
  {
   "cell_type": "code",
   "execution_count": 174,
   "metadata": {
    "collapsed": false
   },
   "outputs": [
    {
     "data": {
      "text/plain": [
       "0.3229166666666667"
      ]
     },
     "execution_count": 174,
     "metadata": {},
     "output_type": "execute_result"
    }
   ],
   "source": [
    "df[df.region == 'Midwest'].drafted.sum() / float(len(df[df.region == 'Midwest']))"
   ]
  },
  {
   "cell_type": "code",
   "execution_count": 178,
   "metadata": {
    "collapsed": true
   },
   "outputs": [],
   "source": [
    "df.to_pickle('recruit_data.pkl')"
   ]
  },
  {
   "cell_type": "code",
   "execution_count": 180,
   "metadata": {
    "collapsed": false
   },
   "outputs": [],
   "source": [
    "df = pd.read_pickle('recruit_data.pkl')"
   ]
  },
  {
   "cell_type": "code",
   "execution_count": null,
   "metadata": {
    "collapsed": true
   },
   "outputs": [],
   "source": []
  }
 ],
 "metadata": {
  "kernelspec": {
   "display_name": "Python 2",
   "language": "python",
   "name": "python2"
  },
  "language_info": {
   "codemirror_mode": {
    "name": "ipython",
    "version": 2
   },
   "file_extension": ".py",
   "mimetype": "text/x-python",
   "name": "python",
   "nbconvert_exporter": "python",
   "pygments_lexer": "ipython2",
   "version": "2.7.11"
  }
 },
 "nbformat": 4,
 "nbformat_minor": 0
}
