{
 "cells": [
  {
   "cell_type": "markdown",
   "metadata": {},
   "source": [
    "# Are 5-star Recruits From the Southeast Better Than Those From other Regions?"
   ]
  },
  {
   "cell_type": "code",
   "execution_count": 1,
   "metadata": {
    "collapsed": false
   },
   "outputs": [
    {
     "name": "stderr",
     "output_type": "stream",
     "text": [
      "/Users/shariqiqbal/anaconda/lib/python2.7/site-packages/matplotlib/__init__.py:872: UserWarning: axes.color_cycle is deprecated and replaced with axes.prop_cycle; please use the latter.\n",
      "  warnings.warn(self.msg_depr % (key, alt_key))\n"
     ]
    }
   ],
   "source": [
    "import requests\n",
    "from lxml import html\n",
    "import time\n",
    "import pandas as pd\n",
    "import matplotlib.pyplot as plt\n",
    "%matplotlib inline\n",
    "import seaborn as sns\n",
    "sns.set_style('darkgrid')"
   ]
  },
  {
   "cell_type": "markdown",
   "metadata": {},
   "source": [
    "## Data Scrape\n",
    "\n",
    "Collect the top 50 recruits from the 24/7 sports composite rankings from 2000-2010 and search for them in the NFL drafts from 2003-2015.  I only collected the recruits up to 2010 because I only wanted to include complete classes, and 5th-year seniors from the class of 2011 have not graduated yet."
   ]
  },
  {
   "cell_type": "code",
   "execution_count": 2,
   "metadata": {
    "collapsed": true
   },
   "outputs": [],
   "source": [
    "top_recruit_lists = {i:'http://247sports.com/Season/%i-Football/CompositeRecruitRankings'%i for i in range(2000, 2011)}\n",
    "nfl_draft_lists = {i:'https://en.wikipedia.org/wiki/%i_NFL_draft'%i for i in range(2003, 2016)}"
   ]
  },
  {
   "cell_type": "code",
   "execution_count": 3,
   "metadata": {
    "collapsed": false
   },
   "outputs": [],
   "source": [
    "headers = {'User-agent': 'bingbot'}\n",
    "# get 247 composite rankings for every year from 2000-2011\n",
    "for year in top_recruit_lists:\n",
    "    top_recruit_lists[year] = requests.get(top_recruit_lists[year], headers=headers)\n",
    "    time.sleep(0.25) # dont want to spam the server (even though this is a pretty small crawl)\n",
    "\n",
    "# get NFL Draft results for every year from 2004-2015\n",
    "for year in nfl_draft_lists:\n",
    "    nfl_draft_lists[year] = requests.get(nfl_draft_lists[year], headers=headers)\n",
    "    time.sleep(0.25)"
   ]
  },
  {
   "cell_type": "code",
   "execution_count": 4,
   "metadata": {
    "collapsed": false
   },
   "outputs": [],
   "source": [
    "names = []\n",
    "rank = []\n",
    "hs_location = []\n",
    "recruit_year = []\n",
    "\n",
    "for year in top_recruit_lists:\n",
    "    tree = html.fromstring(top_recruit_lists[year].content)\n",
    "    names += tree.xpath('//a[@class=\"bold\"]/text()')\n",
    "    rank += tree.xpath('//span[@class=\"primary\"]/text()')\n",
    "    hs_location += tree.xpath('//span[@class=\"meta\"]/text()')\n",
    "    recruit_year += [year] * len(tree.xpath('//a[@class=\"bold\"]/text()'))"
   ]
  },
  {
   "cell_type": "code",
   "execution_count": 5,
   "metadata": {
    "collapsed": false
   },
   "outputs": [],
   "source": [
    "state = []\n",
    "region = []\n",
    "state_map =  {'WA': \"West\",\n",
    "              'OR': \"West\",\n",
    "              'CA': \"West\",\n",
    "              'ID': \"West\",\n",
    "              'NV': \"West\",\n",
    "              'AZ': \"West\",\n",
    "              'UT': \"West\",\n",
    "              'MT': \"West\",\n",
    "              'WY': \"West\",\n",
    "              'CO': \"West\",\n",
    "              'NM': \"West\",\n",
    "              'ND': \"Midwest\",\n",
    "              'SD': \"Midwest\",\n",
    "              'NE': \"Midwest\",\n",
    "              'MN': \"Midwest\",\n",
    "              'IA': \"Midwest\",\n",
    "              'WI': \"Midwest\",\n",
    "              'IL': \"Midwest\",\n",
    "              'IN': \"Midwest\",\n",
    "              'MI': \"Midwest\",\n",
    "              'OH': \"Midwest\",\n",
    "              'PA': \"Midwest\",\n",
    "              'ME': \"East\",\n",
    "              'NH': \"East\",\n",
    "              'VT': \"East\",\n",
    "              'MA': \"East\",\n",
    "              'NY': \"East\",\n",
    "              'CT': \"East\",\n",
    "              'RI': \"East\",\n",
    "              'NJ': \"East\",\n",
    "              'DC': \"East\",\n",
    "              'DE': \"East\",\n",
    "              'MD': \"East\",\n",
    "              'WV': \"East\",\n",
    "              'VA': \"East\",\n",
    "              'NC': \"East\",\n",
    "              'MO': \"Southeast\",\n",
    "              'KY': \"Southeast\",\n",
    "              'TN': \"Southeast\",\n",
    "              'SC': \"Southeast\",\n",
    "              'GA': \"Southeast\",\n",
    "              'AL': \"Southeast\",\n",
    "              'MS': \"Southeast\",\n",
    "              'LA': \"Southeast\",\n",
    "              'FL': \"Southeast\",\n",
    "              'AR': \"Southeast\",\n",
    "              'KS': \"Southwest\",\n",
    "              'TX': \"Southwest\",\n",
    "              'OK': \"Southwest\",\n",
    "              'HI': \"Pacific\",\n",
    "              'AK': \"Pacific\",\n",
    "             }\n",
    "for hs in hs_location:\n",
    "    st = hs.split(', ')[-1].split(')')[0]\n",
    "    state.append(st)\n",
    "    region.append(state_map[st])"
   ]
  },
  {
   "cell_type": "code",
   "execution_count": 6,
   "metadata": {
    "collapsed": false
   },
   "outputs": [],
   "source": [
    "df = pd.DataFrame(index=names)\n",
    "df['rank'] = rank\n",
    "df['hs_location'] = hs_location\n",
    "df['recruit_year'] = recruit_year\n",
    "df['state'] = state\n",
    "df['region'] = region\n",
    "df = df.drop('Adam Taliaferro') # mistakenly ranked number 1 by website"
   ]
  },
  {
   "cell_type": "code",
   "execution_count": 7,
   "metadata": {
    "collapsed": false
   },
   "outputs": [],
   "source": [
    "for year in nfl_draft_lists:\n",
    "    tree = html.fromstring(nfl_draft_lists[year].content)\n",
    "    \n",
    "    pick_num = tree.xpath(\"//span[@id]/@id\")\n",
    "    to_remove = []\n",
    "    for i in range(len(pick_num)):\n",
    "        val = pick_num[i]\n",
    "        if 'Pick_' not in val:\n",
    "            to_remove.append(val)\n",
    "        else:\n",
    "            num = val.split('_')[-1]\n",
    "            try:\n",
    "                pick_num[i] = int(num)\n",
    "            except ValueError:\n",
    "                to_remove.append(val) # wikipedia annoyingly labels forfeited picks as decimals between two picks (e.g. 30.5)\n",
    "\n",
    "    for rmv in to_remove:\n",
    "        pick_num.remove(rmv)\n",
    "    \n",
    "    names = tree.xpath('//span[@class=\"sortkey\"]/text() | //td/span[@style=\"display:none;\"]/text()')\n",
    "    for i in range(len(names)):\n",
    "        name = names[i]\n",
    "        name = name.split(',')\n",
    "        name[1] = name[1].replace(' ', '')\n",
    "        names[i] = name[1] + ' ' + name[0]\n",
    "    names = names[:len(pick_num)]\n",
    "    \n",
    "    for i in range(len(names)):\n",
    "        name = names[i]\n",
    "        try:\n",
    "            if year <= df.loc[name, 'recruit_year'] + 6 and year >= df.loc[name, 'recruit_year'] + 3:\n",
    "                df.loc[name, 'draft_pick'] = i+1\n",
    "                df.loc[name, 'draft_year'] = year\n",
    "        except:\n",
    "            pass # pick wasn't in 247 top 50 composite"
   ]
  },
  {
   "cell_type": "code",
   "execution_count": 8,
   "metadata": {
    "collapsed": false
   },
   "outputs": [],
   "source": [
    "df['drafted'] = (~df.draft_pick.isnull()).astype('int')\n",
    "df['rank'] = df['rank'].astype('int')"
   ]
  },
  {
   "cell_type": "code",
   "execution_count": 9,
   "metadata": {
    "collapsed": false
   },
   "outputs": [
    {
     "data": {
      "text/plain": [
       "0.46568627450980393"
      ]
     },
     "execution_count": 9,
     "metadata": {},
     "output_type": "execute_result"
    }
   ],
   "source": [
    "df[df.region == 'Southeast'].drafted.sum() / float(len(df[df.region == 'Southeast']))"
   ]
  },
  {
   "cell_type": "code",
   "execution_count": 10,
   "metadata": {
    "collapsed": false
   },
   "outputs": [
    {
     "data": {
      "text/plain": [
       "0.34065934065934067"
      ]
     },
     "execution_count": 10,
     "metadata": {},
     "output_type": "execute_result"
    }
   ],
   "source": [
    "df[df.region == 'Midwest'].drafted.sum() / float(len(df[df.region == 'Midwest']))"
   ]
  },
  {
   "cell_type": "code",
   "execution_count": 14,
   "metadata": {
    "collapsed": true
   },
   "outputs": [],
   "source": [
    "df.to_pickle('recruit_data.pkl')"
   ]
  },
  {
   "cell_type": "markdown",
   "metadata": {},
   "source": [
    "## Analysis\n",
    "Much has been made of the SEC's dominance in college football in recent years, and, some of that success can be attributed to the sheer volume of high profile recruits the region produces."
   ]
  },
  {
   "cell_type": "code",
   "execution_count": 2,
   "metadata": {
    "collapsed": false
   },
   "outputs": [],
   "source": [
    "df = pd.read_pickle('recruit_data.pkl')"
   ]
  },
  {
   "cell_type": "code",
   "execution_count": 3,
   "metadata": {
    "collapsed": false
   },
   "outputs": [],
   "source": [
    "region_map = {\"West\": ['WA','OR','CA','ID','NV','AZ','UT','MT','WY','CO','NM'],\n",
    "              \"Midwest\": ['ND','SD','NE','MN','IA','WI','IL','IN','MI','OH','PA'],\n",
    "              \"East\": ['ME','NH','VT','MA','NY','CT','RI','NJ','DC','DE','MD','WV','VA','NC'],\n",
    "              \"Southeast\": ['MO','KY','TN','SC','GA','AL','MS','LA','FL','AR'],\n",
    "              \"Southwest\": ['KS','TX','OK'],\n",
    "              \"Pacific\": ['HI','AK']\n",
    "             }\n",
    "state_pop =  {'WA': 7170351,\n",
    "              'OR': 4028977,\n",
    "              'CA': 39144818,\n",
    "              'ID': 1654930,\n",
    "              'NV': 2890845,\n",
    "              'AZ': 6828065,\n",
    "              'UT': 2995919,\n",
    "              'MT': 1032949,\n",
    "              'WY': 586107,\n",
    "              'CO': 5456574,\n",
    "              'NM': 2085109,\n",
    "              'ND': 756927,\n",
    "              'SD': 858469,\n",
    "              'NE': 1896190,\n",
    "              'MN': 5489594,\n",
    "              'IA': 3123899,\n",
    "              'WI': 5771337,\n",
    "              'IL': 12859995,\n",
    "              'IN': 6619680,\n",
    "              'MI': 9922576,\n",
    "              'OH': 11613423,\n",
    "              'PA': 12802503,\n",
    "              'ME': 1329328,\n",
    "              'NH': 1330608,\n",
    "              'VT': 626042,\n",
    "              'MA': 6794422,\n",
    "              'NY': 19795791,\n",
    "              'CT': 3590886,\n",
    "              'RI': 1056298,\n",
    "              'NJ': 8958013,\n",
    "              'DC': 672228,\n",
    "              'DE': 945934,\n",
    "              'MD': 6006401,\n",
    "              'WV': 1844128,\n",
    "              'VA': 8382993,\n",
    "              'NC': 10042802,\n",
    "              'MO': 6083672,\n",
    "              'KY': 4425092,\n",
    "              'TN': 6600299,\n",
    "              'SC': 4896146,\n",
    "              'GA': 10214860,\n",
    "              'AL': 4858979,\n",
    "              'MS': 2992333,\n",
    "              'LA': 4670724,\n",
    "              'FL': 20271272,\n",
    "              'AR': 2978204,\n",
    "              'KS': 2911641,\n",
    "              'TX': 27469114,\n",
    "              'OK': 3911338,\n",
    "              'HI': 1431603,\n",
    "              'AK': 738432,\n",
    "             }"
   ]
  },
  {
   "cell_type": "code",
   "execution_count": 4,
   "metadata": {
    "collapsed": false
   },
   "outputs": [],
   "source": [
    "region_density = {}\n",
    "for reg in region_map.keys():\n",
    "    num_recruits = df[df.region == reg].shape[0]\n",
    "    pop = 0\n",
    "    for state in region_map[reg]:\n",
    "        pop += state_pop[state]\n",
    "    \n",
    "    recruits_per_mil = (float(num_recruits) / pop) * 1000000\n",
    "    region_density[reg] = recruits_per_mil"
   ]
  },
  {
   "cell_type": "code",
   "execution_count": 14,
   "metadata": {
    "collapsed": false
   },
   "outputs": [
    {
     "data": {
      "image/png": "[encoded data removed]",
      "text/plain": [
       "<matplotlib.figure.Figure at 0x10bfdcc10>"
      ]
     },
     "metadata": {},
     "output_type": "display_data"
    }
   ],
   "source": [
    "plt.bar(range(1, len(region_density)+1), region_density.values(), \n",
    "        color=sns.color_palette(\"deep\", 10)[:6], align='center',\n",
    "        tick_label=region_density.keys())\n",
    "plt.xlabel(\"Region\")\n",
    "plt.ylabel('Top 50 recruits from 2000-2010 per million people')\n",
    "plt.title('Elite Football Recruit Density in U.S. Regions');"
   ]
  },
  {
   "cell_type": "code",
   "execution_count": null,
   "metadata": {
    "collapsed": true
   },
   "outputs": [],
   "source": []
  },
  {
   "cell_type": "markdown",
   "metadata": {
    "collapsed": true
   },
   "source": [
    "Could it be possible, though, that these high profile recruits from the Southeast are also superior to their contemporaries from other regions of the US?"
   ]
  },
  {
   "cell_type": "code",
   "execution_count": null,
   "metadata": {
    "collapsed": false
   },
   "outputs": [],
   "source": []
  },
  {
   "cell_type": "code",
   "execution_count": null,
   "metadata": {
    "collapsed": true
   },
   "outputs": [],
   "source": []
  }
 ],
 "metadata": {
  "kernelspec": {
   "display_name": "Python 2",
   "language": "python",
   "name": "python2"
  },
  "language_info": {
   "codemirror_mode": {
    "name": "ipython",
    "version": 2
   },
   "file_extension": ".py",
   "mimetype": "text/x-python",
   "name": "python",
   "nbconvert_exporter": "python",
   "pygments_lexer": "ipython2",
   "version": "2.7.11"
  }
 },
 "nbformat": 4,
 "nbformat_minor": 0
}
